{
  "nbformat": 4,
  "nbformat_minor": 0,
  "metadata": {
    "colab": {
      "provenance": [],
      "collapsed_sections": [
        "rLL9QqC1yNbd",
        "N0Hyti3xx1um",
        "xZOgNbeq0K5C",
        "rgU8grFr1cd4"
      ],
      "authorship_tag": "ABX9TyMr6RyEGpM2s+pF9bvYcLVf",
      "include_colab_link": true
    },
    "kernelspec": {
      "name": "python3",
      "display_name": "Python 3"
    },
    "language_info": {
      "name": "python"
    }
  },
  "cells": [
    {
      "cell_type": "markdown",
      "metadata": {
        "id": "view-in-github",
        "colab_type": "text"
      },
      "source": [
        "<a href=\"https://colab.research.google.com/github/Paulovinicius212/CIENCIA-DE-DADOS-DS01/blob/main/Ciclo_03_Resolu%C3%A7%C3%A3o_problemas.ipynb\" target=\"_parent\"><img src=\"https://colab.research.google.com/assets/colab-badge.svg\" alt=\"Open In Colab\"/></a>"
      ]
    },
    {
      "cell_type": "markdown",
      "source": [
        "## **Iniciando os dados**"
      ],
      "metadata": {
        "id": "rLL9QqC1yNbd"
      }
    },
    {
      "cell_type": "code",
      "execution_count": null,
      "metadata": {
        "id": "fBSnCA8AvY4-"
      },
      "outputs": [],
      "source": [
        "import pandas as pd\n",
        "\n",
        "data = pd.read_csv( \"/content/AB_NYC_2019.csv\" )"
      ]
    },
    {
      "cell_type": "code",
      "source": [
        "data.head()"
      ],
      "metadata": {
        "id": "GEzkDJusxc9c"
      },
      "execution_count": null,
      "outputs": []
    },
    {
      "cell_type": "markdown",
      "source": [
        "## **Calcular a média de todos os valores de aluguel da cidade de Nova York.**\n",
        "\n"
      ],
      "metadata": {
        "id": "N0Hyti3xx1um"
      }
    },
    {
      "cell_type": "code",
      "source": [
        "#Selecionar colunas\n",
        "\n",
        "import pandas as pd\n",
        "import numpy as np\n",
        "\n",
        "# selecionar a coluna price\n",
        "price = data.loc[:, 'price']"
      ],
      "metadata": {
        "id": "Of0GyJtAyL3l"
      },
      "execution_count": 6,
      "outputs": []
    },
    {
      "cell_type": "code",
      "source": [
        "preco_aluguel = data.loc[:, 'price']"
      ],
      "metadata": {
        "id": "jzhQZtWwzR1U"
      },
      "execution_count": 8,
      "outputs": []
    },
    {
      "cell_type": "code",
      "source": [
        "np.mean( preco_aluguel )"
      ],
      "metadata": {
        "id": "NQAXiwu6zj9-",
        "colab": {
          "base_uri": "https://localhost:8080/"
        },
        "outputId": "382ed1e0-feae-49d1-9468-51cb491a05cd"
      },
      "execution_count": 7,
      "outputs": [
        {
          "output_type": "execute_result",
          "data": {
            "text/plain": [
              "152.7206871868289"
            ]
          },
          "metadata": {},
          "execution_count": 7
        }
      ]
    },
    {
      "cell_type": "markdown",
      "source": [
        "# Contar todos os nomes distintos que aparecem na coluna região.#\n",
        "\n"
      ],
      "metadata": {
        "id": "xZOgNbeq0K5C"
      }
    },
    {
      "cell_type": "code",
      "source": [
        "import pandas as pd\n",
        "import numpy as np\n",
        "# selecionar a coluna região\n",
        "regioes = data.loc[:, 'neighbourhood_group']"
      ],
      "metadata": {
        "id": "0HbuMVbG0lMY"
      },
      "execution_count": null,
      "outputs": []
    },
    {
      "cell_type": "code",
      "source": [
        "regiao = data.loc[:, 'neighbourhood_group']\n",
        "\n",
        "pd.unique(regiao)"
      ],
      "metadata": {
        "colab": {
          "base_uri": "https://localhost:8080/"
        },
        "id": "hZH5518T0t07",
        "outputId": "732be191-3468-4a78-d959-6e392df4aca2"
      },
      "execution_count": null,
      "outputs": [
        {
          "output_type": "execute_result",
          "data": {
            "text/plain": [
              "array(['Brooklyn', 'Manhattan', 'Queens', 'Staten Island', 'Bronx', nan],\n",
              "      dtype=object)"
            ]
          },
          "metadata": {},
          "execution_count": 5
        }
      ]
    },
    {
      "cell_type": "markdown",
      "source": [
        "### **Encontrar o valor máximo da coluna que contém os valores dos aluguéis**"
      ],
      "metadata": {
        "id": "rgU8grFr1cd4"
      }
    },
    {
      "cell_type": "code",
      "source": [
        "import pandas as pd\n",
        "import numpy as np\n",
        "# selecionar a coluna price\n",
        "price = data.loc[:, 'price']"
      ],
      "metadata": {
        "id": "BPvkPJXK1sWt"
      },
      "execution_count": null,
      "outputs": []
    },
    {
      "cell_type": "code",
      "source": [
        "np.max(price)"
      ],
      "metadata": {
        "colab": {
          "base_uri": "https://localhost:8080/"
        },
        "id": "AavBflyW2AIX",
        "outputId": "29cef05d-10a1-4423-9911-0b77c9ae5ee4"
      },
      "execution_count": null,
      "outputs": [
        {
          "output_type": "execute_result",
          "data": {
            "text/plain": [
              "10000.0"
            ]
          },
          "metadata": {},
          "execution_count": 8
        }
      ]
    },
    {
      "cell_type": "markdown",
      "source": [
        "# **ciclo 2**"
      ],
      "metadata": {
        "id": "QjRJmK_7rdIw"
      }
    },
    {
      "cell_type": "code",
      "source": [],
      "metadata": {
        "id": "cukHBGwGtPcv"
      },
      "execution_count": null,
      "outputs": []
    },
    {
      "cell_type": "markdown",
      "source": [
        "## **ciclo 3**"
      ],
      "metadata": {
        "id": "-MpjevLY7FJ4"
      }
    },
    {
      "cell_type": "code",
      "source": [
        "import pandas as pd\n",
        "import plotly.express as px"
      ],
      "metadata": {
        "id": "fZhUmyT57JWr"
      },
      "execution_count": 35,
      "outputs": []
    },
    {
      "cell_type": "code",
      "source": [
        "data = pd.read_csv( \"/content/AB_NYC_2019.csv\" )"
      ],
      "metadata": {
        "id": "Na5Aj8yqZ_MM"
      },
      "execution_count": 36,
      "outputs": []
    },
    {
      "cell_type": "code",
      "source": [
        "# qual o valor diario maximo  do aluguel?\n",
        "colunas = [\"price\",\"neighbourhood_group\" ]\n",
        "colunas_groupby = [ \"neighbourhood_group\" ]\n",
        "\n",
        "data.loc[:, colunas].groupby(colunas_groupby).max().reset_index()\n"
      ],
      "metadata": {
        "id": "2lfdtHw0jh5x"
      },
      "execution_count": null,
      "outputs": []
    },
    {
      "cell_type": "code",
      "source": [
        "import folium\n",
        "\n",
        "# Definindo data_plot com base nas informações fornecidas\n",
        "data_plot = data[['price', 'neighbourhood_group', 'latitude', 'longitude']].groupby('neighbourhood_group').max().reset_index()\n",
        "\n",
        "# Calcular a média de latitude e longitude para centralizar o mapa\n",
        "mean_lat = data_plot['latitude'].astype(float).mean()\n",
        "mean_lon = data_plot['longitude'].astype(float).mean()\n",
        "\n",
        "# Criar um mapa centrado na média da latitude e longitude\n",
        "mapa = folium.Map(location=[mean_lat, mean_lon], zoom_start=14, control_scale=True)\n",
        "\n",
        "# Adicionar marcadores para cada grupo de bairro\n",
        "for index, info_localizacao in data_plot.iterrows():\n",
        "    folium.Marker([float(info_localizacao['latitude']), float(info_localizacao['longitude'])],\n",
        "                  popup=info_localizacao['neighbourhood_group']).add_to(mapa)\n",
        "\n",
        "# Mostrar o mapa\n",
        "mapa\n"
      ],
      "metadata": {
        "id": "me3eNBcWwkOG"
      },
      "execution_count": null,
      "outputs": []
    }
  ]
}