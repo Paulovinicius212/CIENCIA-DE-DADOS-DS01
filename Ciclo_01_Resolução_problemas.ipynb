{
  "nbformat": 4,
  "nbformat_minor": 0,
  "metadata": {
    "colab": {
      "provenance": [],
      "authorship_tag": "ABX9TyMst3B5e28lrSvtgXPhvk5f",
      "include_colab_link": true
    },
    "kernelspec": {
      "name": "python3",
      "display_name": "Python 3"
    },
    "language_info": {
      "name": "python"
    }
  },
  "cells": [
    {
      "cell_type": "markdown",
      "metadata": {
        "id": "view-in-github",
        "colab_type": "text"
      },
      "source": [
        "<a href=\"https://colab.research.google.com/github/Paulovinicius212/CIENCIA-DE-DADOS-DS01/blob/main/Ciclo_01_Resolu%C3%A7%C3%A3o_problemas.ipynb\" target=\"_parent\"><img src=\"https://colab.research.google.com/assets/colab-badge.svg\" alt=\"Open In Colab\"/></a>"
      ]
    },
    {
      "cell_type": "markdown",
      "source": [
        "## **Iniciando os dados**"
      ],
      "metadata": {
        "id": "rLL9QqC1yNbd"
      }
    },
    {
      "cell_type": "code",
      "execution_count": 4,
      "metadata": {
        "id": "fBSnCA8AvY4-"
      },
      "outputs": [],
      "source": [
        "import pandas as pd\n",
        "\n",
        "data = pd.read_csv( \"/content/AB_NYC_2019.csv\" )"
      ]
    },
    {
      "cell_type": "code",
      "source": [
        "data.head()"
      ],
      "metadata": {
        "id": "GEzkDJusxc9c"
      },
      "execution_count": null,
      "outputs": []
    },
    {
      "cell_type": "markdown",
      "source": [
        "## **Calcular a média de todos os valores de aluguel da cidade de Nova York.**\n",
        "\n"
      ],
      "metadata": {
        "id": "N0Hyti3xx1um"
      }
    },
    {
      "cell_type": "code",
      "source": [
        "#Selecionar colunas\n",
        "\n",
        "import pandas as pd\n",
        "import numpy as np\n",
        "\n",
        "# selecionar a coluna price\n",
        "price = data.loc[:, 'price']"
      ],
      "metadata": {
        "id": "Of0GyJtAyL3l"
      },
      "execution_count": 14,
      "outputs": []
    },
    {
      "cell_type": "code",
      "source": [
        "preco_aluguel = data.loc[:, 'price']"
      ],
      "metadata": {
        "id": "jzhQZtWwzR1U"
      },
      "execution_count": 16,
      "outputs": []
    },
    {
      "cell_type": "code",
      "source": [
        "np.mean( preco_aluguel )"
      ],
      "metadata": {
        "id": "NQAXiwu6zj9-"
      },
      "execution_count": null,
      "outputs": []
    },
    {
      "cell_type": "markdown",
      "source": [
        "# Contar todos os nomes distintos que aparecem na coluna região.#\n",
        "\n"
      ],
      "metadata": {
        "id": "xZOgNbeq0K5C"
      }
    },
    {
      "cell_type": "code",
      "source": [
        "import pandas as pd\n",
        "import numpy as np\n",
        "# selecionar a coluna região\n",
        "regioes = data.loc[:, 'neighbourhood_group']"
      ],
      "metadata": {
        "id": "0HbuMVbG0lMY"
      },
      "execution_count": 18,
      "outputs": []
    },
    {
      "cell_type": "code",
      "source": [
        "regiao = data.loc[:, 'neighbourhood_group']\n",
        "\n",
        "pd.unique(regiao)"
      ],
      "metadata": {
        "colab": {
          "base_uri": "https://localhost:8080/"
        },
        "id": "hZH5518T0t07",
        "outputId": "e68d8f17-62c0-416b-f517-9db2d40d9194"
      },
      "execution_count": 20,
      "outputs": [
        {
          "output_type": "execute_result",
          "data": {
            "text/plain": [
              "array(['Brooklyn', 'Manhattan', 'Queens', 'Staten Island', 'Bronx'],\n",
              "      dtype=object)"
            ]
          },
          "metadata": {},
          "execution_count": 20
        }
      ]
    },
    {
      "cell_type": "markdown",
      "source": [
        "### **Encontrar o valor máximo da coluna que contém os valores dos aluguéis**"
      ],
      "metadata": {
        "id": "rgU8grFr1cd4"
      }
    },
    {
      "cell_type": "code",
      "source": [
        "import pandas as pd\n",
        "import numpy as np\n",
        "# selecionar a coluna price\n",
        "price = data.loc[:, 'price']"
      ],
      "metadata": {
        "id": "BPvkPJXK1sWt"
      },
      "execution_count": null,
      "outputs": []
    },
    {
      "cell_type": "code",
      "source": [
        "np.max(price)"
      ],
      "metadata": {
        "colab": {
          "base_uri": "https://localhost:8080/"
        },
        "id": "AavBflyW2AIX",
        "outputId": "48295c81-2a39-4baa-96b6-6d9df47d5be5"
      },
      "execution_count": 21,
      "outputs": [
        {
          "output_type": "execute_result",
          "data": {
            "text/plain": [
              "10000"
            ]
          },
          "metadata": {},
          "execution_count": 21
        }
      ]
    }
  ]
}