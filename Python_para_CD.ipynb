{
  "nbformat": 4,
  "nbformat_minor": 0,
  "metadata": {
    "colab": {
      "provenance": [],
      "collapsed_sections": [
        "rrzLUUZGMLtF",
        "-basf7GeXsUQ"
      ],
      "authorship_tag": "ABX9TyMXNTScK1XoE0SonHbJq+sC",
      "include_colab_link": true
    },
    "kernelspec": {
      "name": "python3",
      "display_name": "Python 3"
    },
    "language_info": {
      "name": "python"
    }
  },
  "cells": [
    {
      "cell_type": "markdown",
      "metadata": {
        "id": "view-in-github",
        "colab_type": "text"
      },
      "source": [
        "<a href=\"https://colab.research.google.com/github/Paulovinicius212/CIENCIA-DE-DADOS-DS01/blob/main/Python_para_CD.ipynb\" target=\"_parent\"><img src=\"https://colab.research.google.com/assets/colab-badge.svg\" alt=\"Open In Colab\"/></a>"
      ]
    },
    {
      "cell_type": "markdown",
      "source": [
        "# **Inicializando Python**"
      ],
      "metadata": {
        "id": "rrzLUUZGMLtF"
      }
    },
    {
      "cell_type": "code",
      "source": [
        "print (\"Hello world\")"
      ],
      "metadata": {
        "colab": {
          "base_uri": "https://localhost:8080/"
        },
        "id": "gWVR102VWolJ",
        "outputId": "5ec8a8dc-ac62-4bc9-d4d9-9b9d04ba6f1a"
      },
      "execution_count": null,
      "outputs": [
        {
          "output_type": "stream",
          "name": "stdout",
          "text": [
            "Hello world\n"
          ]
        }
      ]
    },
    {
      "cell_type": "markdown",
      "source": [
        "# Operações **matemáticas**"
      ],
      "metadata": {
        "id": "-basf7GeXsUQ"
      }
    },
    {
      "cell_type": "code",
      "source": [
        "100 + 20"
      ],
      "metadata": {
        "colab": {
          "base_uri": "https://localhost:8080/"
        },
        "id": "dqWKc3SkXzKV",
        "outputId": "5e029cc2-ca28-424f-81b1-b4f6515a9eaf"
      },
      "execution_count": null,
      "outputs": [
        {
          "output_type": "execute_result",
          "data": {
            "text/plain": [
              "120"
            ]
          },
          "metadata": {},
          "execution_count": 35
        }
      ]
    },
    {
      "cell_type": "code",
      "source": [
        "resultado_01 = 100 + 30"
      ],
      "metadata": {
        "id": "6R1zCp9VX_hE"
      },
      "execution_count": 1,
      "outputs": []
    },
    {
      "cell_type": "code",
      "source": [
        "resultado_02 = resultado_01 - 30\n",
        "resultado_03 = resultado_01 * 3\n",
        "resultado_04 = resultado_01 / 4"
      ],
      "metadata": {
        "id": "ATe-hP8AYbiW"
      },
      "execution_count": 3,
      "outputs": []
    },
    {
      "cell_type": "code",
      "source": [
        "print (resultado_01)\n",
        "print (resultado_02)\n",
        "print (resultado_03)\n",
        "print (resultado_04)"
      ],
      "metadata": {
        "id": "H1-WQUaXZQvM",
        "colab": {
          "base_uri": "https://localhost:8080/"
        },
        "outputId": "5a143518-3af7-4305-9ce4-d93f83640cc2"
      },
      "execution_count": 4,
      "outputs": [
        {
          "output_type": "stream",
          "name": "stdout",
          "text": [
            "130\n",
            "100\n",
            "390\n",
            "32.5\n"
          ]
        }
      ]
    },
    {
      "cell_type": "markdown",
      "source": [
        "# **CONDICIONAIS**"
      ],
      "metadata": {
        "id": "RdTeiJNnZ-zg"
      }
    },
    {
      "cell_type": "code",
      "source": [
        "Horario = \"Manhã\"\n",
        "\n",
        "if Horario == \"Manhã\":\n",
        "  print(\"Bom dia\")\n",
        "\n",
        "elif Horario == \"Tarde\":\n",
        "  print(\"Boa tarde\")\n",
        "\n",
        "else:\n",
        "  print(\"Boa noite\")"
      ],
      "metadata": {
        "colab": {
          "base_uri": "https://localhost:8080/"
        },
        "id": "WZ-6J3ngaH1N",
        "outputId": "ce0b7ae8-7fed-4013-b276-d9dc50554db3"
      },
      "execution_count": null,
      "outputs": [
        {
          "output_type": "stream",
          "name": "stdout",
          "text": [
            "Bom dia\n"
          ]
        }
      ]
    },
    {
      "cell_type": "code",
      "source": [
        "Horario = \"Tarde\"\n",
        "\n",
        "if Horario == \"Manhã\":\n",
        "  print(\"Bom dia\")\n",
        "\n",
        "elif Horario == \"Tarde\":\n",
        "  print(\"Boa tarde\")\n",
        "\n",
        "else:\n",
        "  print(\"Boa noite\")"
      ],
      "metadata": {
        "colab": {
          "base_uri": "https://localhost:8080/"
        },
        "id": "qj9qPh4ib7rZ",
        "outputId": "a4013cf6-8c6c-4ce2-a94f-c3c069bb9d89"
      },
      "execution_count": null,
      "outputs": [
        {
          "output_type": "stream",
          "name": "stdout",
          "text": [
            "Boa tarde\n"
          ]
        }
      ]
    },
    {
      "cell_type": "code",
      "source": [
        "Horario = \"\"\n",
        "\n",
        "if Horario == \"Manhã\":\n",
        "  print(\"Bom dia\")\n",
        "\n",
        "elif Horario == \"Tarde\":\n",
        "  print(\"Boa tarde\")\n",
        "\n",
        "else:\n",
        "  print(\"Boa noite\")"
      ],
      "metadata": {
        "colab": {
          "base_uri": "https://localhost:8080/"
        },
        "id": "D8rUylt-cAuZ",
        "outputId": "547d17f3-78f6-41bc-d7a7-5586db7d35fb"
      },
      "execution_count": null,
      "outputs": [
        {
          "output_type": "stream",
          "name": "stdout",
          "text": [
            "Boa noite\n"
          ]
        }
      ]
    },
    {
      "cell_type": "markdown",
      "source": [],
      "metadata": {
        "id": "vF8Ay3W2s1h6"
      }
    }
  ]
}